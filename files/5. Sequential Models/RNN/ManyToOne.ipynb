{
 "cells": [
  {
   "cell_type": "code",
   "execution_count": 1,
   "metadata": {},
   "outputs": [],
   "source": [
    "from __future__ import unicode_literals, print_function, division\n",
    "from io import open\n",
    "import glob\n",
    "import os\n",
    "import random\n",
    "\n",
    "import unicodedata\n",
    "import string\n",
    "\n",
    "import torch\n",
    "\n",
    "import matplotlib.pyplot as plt\n",
    "import matplotlib.ticker as ticker"
   ]
  },
  {
   "cell_type": "code",
   "execution_count": 2,
   "metadata": {},
   "outputs": [],
   "source": [
    "def findFiles(path): return glob.glob(path)"
   ]
  },
  {
   "cell_type": "code",
   "execution_count": 3,
   "metadata": {},
   "outputs": [
    {
     "name": "stdout",
     "output_type": "stream",
     "text": [
      "['data/names/Czech.txt', 'data/names/German.txt', 'data/names/Arabic.txt', 'data/names/Japanese.txt', 'data/names/Chinese.txt', 'data/names/Vietnamese.txt', 'data/names/Russian.txt', 'data/names/French.txt', 'data/names/Irish.txt', 'data/names/English.txt', 'data/names/Spanish.txt', 'data/names/Greek.txt', 'data/names/Italian.txt', 'data/names/Portuguese.txt', 'data/names/Scottish.txt', 'data/names/Dutch.txt', 'data/names/Korean.txt', 'data/names/Polish.txt']\n"
     ]
    }
   ],
   "source": [
    "print(findFiles('data/names/*.txt'))"
   ]
  },
  {
   "cell_type": "code",
   "execution_count": 8,
   "metadata": {},
   "outputs": [],
   "source": [
    "def unicodeToAscii(s):\n",
    "    return ''.join(\n",
    "        c for c in unicodedata.normalize('NFD', s) \\\n",
    "            if unicodedata.category(c) != 'Mn' and c in all_letters\n",
    "    )\n",
    "\n",
    "def readLines(filename):\n",
    "    lines = open(filename, encoding='utf-8').read().strip().split('\\n')\n",
    "    return [unicodeToAscii(line) for line in lines]"
   ]
  },
  {
   "cell_type": "code",
   "execution_count": 9,
   "metadata": {},
   "outputs": [
    {
     "name": "stdout",
     "output_type": "stream",
     "text": [
      "18 ['Czech', 'German', 'Arabic', 'Japanese', 'Chinese', 'Vietnamese', 'Russian', 'French', 'Irish', 'English', 'Spanish', 'Greek', 'Italian', 'Portuguese', 'Scottish', 'Dutch', 'Korean', 'Polish']\n"
     ]
    }
   ],
   "source": [
    "all_letters = string.ascii_letters + \" .,;'\"\n",
    "n_letters = len(all_letters)\n",
    "\n",
    "category_lines = {}\n",
    "all_categories = []\n",
    "\n",
    "for filename in findFiles('data/names/*.txt'):\n",
    "    category = os.path.splitext(os.path.basename(filename))[0]\n",
    "    all_categories.append(category)\n",
    "    lines = readLines(filename)\n",
    "    category_lines[category] = lines\n",
    "    \n",
    "n_categories = len(all_categories)\n",
    "\n",
    "print(n_categories, all_categories)"
   ]
  },
  {
   "cell_type": "code",
   "execution_count": 10,
   "metadata": {},
   "outputs": [
    {
     "name": "stdout",
     "output_type": "stream",
     "text": [
      "Slusarski\n"
     ]
    }
   ],
   "source": [
    "print(unicodeToAscii('Ślusàrski'))"
   ]
  },
  {
   "cell_type": "code",
   "execution_count": 11,
   "metadata": {},
   "outputs": [
    {
     "name": "stdout",
     "output_type": "stream",
     "text": [
      "['Abandonato', 'Abatangelo', 'Abatantuono', 'Abate', 'Abategiovanni']\n"
     ]
    }
   ],
   "source": [
    "print(category_lines['Italian'][:5])"
   ]
  },
  {
   "cell_type": "code",
   "execution_count": 12,
   "metadata": {},
   "outputs": [
    {
     "name": "stdout",
     "output_type": "stream",
     "text": [
      "tensor([[0., 0., 0., 0., 0., 0., 0., 0., 0., 0., 0., 0., 0., 0., 0., 0., 0., 0.,\n",
      "         0., 0., 0., 0., 0., 0., 0., 0., 0., 0., 0., 0., 0., 0., 0., 0., 0., 1.,\n",
      "         0., 0., 0., 0., 0., 0., 0., 0., 0., 0., 0., 0., 0., 0., 0., 0., 0., 0.,\n",
      "         0., 0., 0.]])\n",
      "torch.Size([5, 1, 57])\n"
     ]
    }
   ],
   "source": [
    "def letterToIndex(letter):\n",
    "    return all_letters.find(letter)\n",
    "\n",
    "def letterToTensor(letter):\n",
    "    tensor = torch.zeros(1, n_letters)\n",
    "    tensor[0][letterToIndex(letter)] = 1\n",
    "    return tensor\n",
    "\n",
    "def lineToTensor(line):\n",
    "    tensor = torch.zeros(len(line), 1, n_letters)\n",
    "    for li, letter in enumerate(line):\n",
    "        tensor[li][0][letterToIndex(letter)] = 1\n",
    "    return tensor\n",
    "\n",
    "def categoryFromOutput(output):\n",
    "    top_n, top_i = output.topk(1)\n",
    "    category_i = top_i[0].item()\n",
    "    return all_categories[category_i], category_i\n",
    "\n",
    "def randomChoice(l):\n",
    "    return l[random.randint(0, len(l) - 1)]\n",
    "\n",
    "def randomTrainingExample():\n",
    "    category = randomChoice(all_categories)\n",
    "    line = randomChoice(category_lines[category])\n",
    "    category_tensor = torch.tensor([all_categories.index(category)], dtype=torch.long)\n",
    "    line_tensor = lineToTensor(line)\n",
    "    return category, line, category_tensor, line_tensor\n",
    "\n",
    "print(letterToTensor('J'))\n",
    "print(lineToTensor('Jones').size())"
   ]
  },
  {
   "cell_type": "code",
   "execution_count": 13,
   "metadata": {},
   "outputs": [],
   "source": [
    "class RNN(torch.nn.Module):\n",
    "    \n",
    "    def __init__(self, input_size, hidden_size, output_size):\n",
    "        super(RNN, self).__init__()\n",
    "        \n",
    "        self.hidden_size = hidden_size\n",
    "        self.i2h = torch.nn.Linear(input_size + hidden_size, hidden_size)\n",
    "        self.i2o = torch.nn.Linear(input_size + hidden_size, output_size)\n",
    "        self.softmax = torch.nn.LogSoftmax(dim=1)\n",
    "        \n",
    "    def forward(self, input, hidden):\n",
    "        combined = torch.cat((input, hidden), 1)\n",
    "        hidden = self.i2h(combined)\n",
    "        output = self.i2o(combined)\n",
    "        output = self.softmax(output)\n",
    "        return output, hidden\n",
    "    \n",
    "    def initHidden(self):\n",
    "        return torch.zeros(1, self.hidden_size)"
   ]
  },
  {
   "cell_type": "code",
   "execution_count": 14,
   "metadata": {},
   "outputs": [],
   "source": [
    "n_hidden = 128\n",
    "rnn = RNN(n_letters, n_hidden, n_categories)"
   ]
  },
  {
   "cell_type": "code",
   "execution_count": 15,
   "metadata": {},
   "outputs": [
    {
     "name": "stdout",
     "output_type": "stream",
     "text": [
      "tensor([[-2.9625, -2.8496, -2.8078, -2.8908, -2.8321, -2.9599, -2.9222, -2.8482,\n",
      "         -2.8266, -2.9193, -2.9604, -2.8682, -2.8509, -2.9521, -2.8835, -2.9476,\n",
      "         -2.9086, -2.8589]], grad_fn=<LogSoftmaxBackward>)\n"
     ]
    }
   ],
   "source": [
    "input = letterToTensor('A')\n",
    "hidden = torch.zeros(1, n_hidden)\n",
    "\n",
    "output, next_hidden = rnn(input, hidden)\n",
    "print(output)"
   ]
  },
  {
   "cell_type": "code",
   "execution_count": 16,
   "metadata": {},
   "outputs": [
    {
     "name": "stdout",
     "output_type": "stream",
     "text": [
      "tensor([[-2.9625, -2.8496, -2.8078, -2.8908, -2.8321, -2.9599, -2.9222, -2.8482,\n",
      "         -2.8266, -2.9193, -2.9604, -2.8682, -2.8509, -2.9521, -2.8835, -2.9476,\n",
      "         -2.9086, -2.8589]], grad_fn=<LogSoftmaxBackward>)\n"
     ]
    }
   ],
   "source": [
    "input = lineToTensor('Albert')\n",
    "hidden = torch.zeros(1, n_hidden)\n",
    "\n",
    "output, next_hidden = rnn(input[0], hidden)\n",
    "print(output)"
   ]
  },
  {
   "cell_type": "code",
   "execution_count": 17,
   "metadata": {},
   "outputs": [
    {
     "name": "stdout",
     "output_type": "stream",
     "text": [
      "('Arabic', 2)\n"
     ]
    }
   ],
   "source": [
    "print(categoryFromOutput(output))"
   ]
  },
  {
   "cell_type": "code",
   "execution_count": 18,
   "metadata": {},
   "outputs": [
    {
     "name": "stdout",
     "output_type": "stream",
     "text": [
      "category = Dutch / line = Specht\n",
      "category = Portuguese / line = Ramires\n",
      "category = German / line = Michel\n",
      "category = Arabic / line = Said\n",
      "category = Italian / line = Napoleoni\n",
      "category = Scottish / line = Cunningham\n",
      "category = Irish / line = O'Driscoll\n",
      "category = Spanish / line = Arriola\n",
      "category = English / line = Duffy\n",
      "category = Russian / line = Makhutov\n"
     ]
    }
   ],
   "source": [
    "for i in range(10):\n",
    "    category, line, category_tensor, line_tensor = randomTrainingExample()\n",
    "    print('category =', category, '/ line =', line)"
   ]
  },
  {
   "cell_type": "code",
   "execution_count": 19,
   "metadata": {},
   "outputs": [],
   "source": [
    "criterion = torch.nn.NLLLoss()"
   ]
  },
  {
   "cell_type": "code",
   "execution_count": 20,
   "metadata": {},
   "outputs": [],
   "source": [
    "learning_rate = 0.005\n",
    "\n",
    "def train(category_tensor, line_tensor):\n",
    "    \n",
    "    hidden = rnn.initHidden()\n",
    "    \n",
    "    rnn.zero_grad()\n",
    "    \n",
    "    for i in range(line_tensor.size()[0]):\n",
    "        output, hidden = rnn(line_tensor[i], hidden)\n",
    "        \n",
    "    loss = criterion(output, category_tensor)\n",
    "    loss.backward()\n",
    "    \n",
    "    for p in rnn.parameters():\n",
    "        p.data.add_(-learning_rate, p.grad.data)\n",
    "    \n",
    "    return output, loss.item()"
   ]
  },
  {
   "cell_type": "code",
   "execution_count": 27,
   "metadata": {},
   "outputs": [
    {
     "name": "stderr",
     "output_type": "stream",
     "text": [
      "/Library/Frameworks/Python.framework/Versions/3.7/lib/python3.7/site-packages/ipykernel_launcher.py:16: UserWarning: This overload of add_ is deprecated:\n",
      "\tadd_(Number alpha, Tensor other)\n",
      "Consider using one of the following signatures instead:\n",
      "\tadd_(Tensor other, *, Number alpha) (Triggered internally at  ../torch/csrc/utils/python_arg_parser.cpp:882.)\n",
      "  app.launch_new_instance()\n"
     ]
    },
    {
     "name": "stdout",
     "output_type": "stream",
     "text": [
      "5000 1% (0m 10s) 2.9649 Konig / Chinese ✗ (German)\n",
      "10000 2% (0m 20s) 1.8878 Palmeiro / Portuguese ✓\n",
      "15000 3% (0m 30s) 2.1814 Castillo / Italian ✗ (Spanish)\n",
      "20000 5% (0m 39s) 0.4273 Rudaski / Polish ✓\n",
      "25000 6% (0m 49s) 0.2940 Kowalski / Polish ✓\n",
      "30000 7% (0m 58s) 1.5058 Beaulieu / French ✓\n",
      "35000 8% (1m 8s) 2.1763 Murphy / Japanese ✗ (Scottish)\n",
      "40000 10% (1m 17s) 1.2663 Boucher / French ✓\n",
      "45000 11% (1m 27s) 1.1260 D'antonio / Italian ✓\n",
      "50000 12% (1m 37s) 3.0341 Chaim / Korean ✗ (Chinese)\n",
      "55000 13% (1m 49s) 0.4068 Paterson / Scottish ✓\n",
      "60000 15% (2m 0s) 4.6700 Jamussa / Japanese ✗ (Greek)\n",
      "65000 16% (2m 11s) 0.1931 Drivakis / Greek ✓\n",
      "70000 17% (2m 20s) 1.3454 Chlebek / Czech ✗ (Polish)\n",
      "75000 18% (2m 29s) 0.8418 Tailler / French ✓\n",
      "80000 20% (2m 39s) 2.5899 Shima / Japanese ✗ (Czech)\n",
      "85000 21% (2m 49s) 0.3116 Yoshizawa / Japanese ✓\n",
      "90000 22% (2m 59s) 1.1387 Espina / Italian ✗ (Spanish)\n",
      "95000 23% (3m 10s) 0.9922 Smeets / Dutch ✓\n",
      "100000 25% (3m 20s) 0.0437 Chijikov / Russian ✓\n",
      "105000 26% (3m 30s) 2.6311 Dickson / Scottish ✗ (English)\n",
      "110000 27% (3m 40s) 1.1872 Melo / Portuguese ✓\n",
      "115000 28% (3m 51s) 1.8556 Dan / Vietnamese ✗ (Chinese)\n",
      "120000 30% (4m 2s) 1.0508 Backer / German ✓\n",
      "125000 31% (4m 12s) 0.9400 Martinez / Spanish ✓\n",
      "130000 32% (4m 21s) 0.5867 Markwardt / German ✓\n",
      "135000 33% (4m 31s) 0.9102 Nunes / Portuguese ✓\n",
      "140000 35% (4m 41s) 0.0214 Shibanuma / Japanese ✓\n",
      "145000 36% (4m 51s) 0.0046 O'Loughlin / Irish ✓\n",
      "150000 37% (5m 1s) 0.0748 Ziemniak / Polish ✓\n",
      "155000 38% (5m 12s) 0.1506 Bertolini / Italian ✓\n",
      "160000 40% (5m 21s) 0.0352 Ziemniak / Polish ✓\n",
      "165000 41% (5m 31s) 1.9964 Demall / Irish ✗ (Czech)\n",
      "170000 42% (5m 42s) 2.1347 Cousineau / Greek ✗ (French)\n",
      "175000 43% (5m 55s) 1.2185 Messer / German ✓\n",
      "180000 45% (6m 6s) 0.3837 Barros / Portuguese ✓\n",
      "185000 46% (6m 16s) 0.0889 Phung / Vietnamese ✓\n",
      "190000 47% (6m 26s) 0.5843 John / Irish ✓\n",
      "195000 48% (6m 36s) 4.6347 Lamon / French ✗ (Italian)\n",
      "200000 50% (6m 46s) 3.3564 Tolkien / Dutch ✗ (German)\n",
      "205000 51% (6m 56s) 0.8584 Cabral / Portuguese ✓\n",
      "210000 52% (7m 7s) 1.0704 Park  / Korean ✓\n",
      "215000 53% (7m 17s) 3.2915 Mas / Chinese ✗ (Dutch)\n",
      "220000 55% (7m 27s) 0.8231 Ngai / Korean ✓\n",
      "225000 56% (7m 38s) 0.2591 Vela / Spanish ✓\n",
      "230000 57% (7m 47s) 0.0679 Gao / Chinese ✓\n",
      "235000 58% (7m 57s) 2.2550 Young / Vietnamese ✗ (Scottish)\n",
      "240000 60% (8m 7s) 0.0671 Theofilopoulos / Greek ✓\n",
      "245000 61% (8m 17s) 1.9643 Ogtrop / Spanish ✗ (Dutch)\n",
      "250000 62% (8m 26s) 2.1640 Kaspar / Czech ✗ (German)\n",
      "255000 63% (8m 36s) 0.0123 Ozawa / Japanese ✓\n",
      "260000 65% (8m 46s) 0.0323 Kowalski / Polish ✓\n",
      "265000 66% (8m 57s) 0.5406 Maille / Irish ✓\n",
      "270000 67% (9m 7s) 1.2271 Bran / Irish ✓\n",
      "275000 68% (9m 17s) 0.2821 Millar / Scottish ✓\n",
      "280000 70% (9m 27s) 1.8833 Denend / French ✗ (Dutch)\n",
      "285000 71% (9m 37s) 2.2028 Durante / Scottish ✗ (Italian)\n",
      "290000 72% (9m 47s) 6.0445 Auttenberg / German ✗ (Polish)\n",
      "295000 73% (9m 57s) 2.6695 Salzwedel / Czech ✗ (German)\n",
      "300000 75% (10m 7s) 0.8938 Ciardha / Irish ✓\n",
      "305000 76% (10m 18s) 2.3074 Severins / English ✗ (Dutch)\n",
      "310000 77% (10m 27s) 0.0167 Wyrick / Polish ✓\n",
      "315000 78% (10m 37s) 0.7102 Lobo / Portuguese ✓\n",
      "320000 80% (10m 47s) 3.2729 Amador / Arabic ✗ (Spanish)\n",
      "325000 81% (10m 57s) 2.7828 Wright / German ✗ (Scottish)\n",
      "330000 82% (11m 7s) 1.0133 Ho / Vietnamese ✗ (Korean)\n",
      "335000 83% (11m 16s) 0.8099 Cho / Korean ✓\n",
      "340000 85% (11m 26s) 0.8343 Bonhomme / French ✓\n",
      "345000 86% (11m 36s) 1.5334 Tritten / English ✗ (German)\n",
      "350000 87% (11m 46s) 1.8987 Schlusser / Arabic ✗ (German)\n",
      "355000 88% (11m 56s) 1.8945 MonkoAustria / Spanish ✗ (Czech)\n",
      "360000 90% (12m 6s) 0.1534 Wojewodzki / Polish ✓\n",
      "365000 91% (12m 16s) 0.4704 Hao / Chinese ✓\n",
      "370000 92% (12m 26s) 0.1009 Paredes / Portuguese ✓\n",
      "375000 93% (12m 36s) 0.2872 Hertz / German ✓\n",
      "380000 95% (12m 46s) 0.0276 Thai / Vietnamese ✓\n",
      "385000 96% (12m 56s) 0.2310 Takudo / Japanese ✓\n",
      "390000 97% (13m 6s) 3.5953 Sastre / English ✗ (Spanish)\n",
      "395000 98% (13m 16s) 0.1150 Cablikova / Czech ✓\n",
      "400000 100% (13m 26s) 2.6262 Segher / Arabic ✗ (Dutch)\n"
     ]
    }
   ],
   "source": [
    "import time\n",
    "import math\n",
    "\n",
    "n_iters = 400000\n",
    "print_every = 5000\n",
    "plot_every = 1000\n",
    "\n",
    "current_loss = 0\n",
    "all_losses = []\n",
    "\n",
    "def timeSince(since):\n",
    "    now = time.time()\n",
    "    s = now - since\n",
    "    m = math.floor(s / 60)\n",
    "    s -= m * 60\n",
    "    return '%dm %ds' % (m, s)\n",
    "\n",
    "start = time.time()\n",
    "\n",
    "for iter in range(1, n_iters + 1):\n",
    "    \n",
    "    category, line, category_tensor, line_tensor = randomTrainingExample()\n",
    "    \n",
    "    output, loss = train(category_tensor, line_tensor)\n",
    "    current_loss += loss\n",
    "    \n",
    "    if iter % print_every == 0:\n",
    "        guess, guess_i = categoryFromOutput(output)\n",
    "        correct = '✓' if guess == category else '✗ (%s)' % category\n",
    "        print('%d %d%% (%s) %.4f %s / %s %s' % (iter, iter / n_iters * 100, timeSince(start), loss, line, guess, correct))\n",
    "\n",
    "    if iter % plot_every == 0:\n",
    "        all_losses.append(current_loss / plot_every)\n",
    "        current_loss = 0"
   ]
  },
  {
   "cell_type": "code",
   "execution_count": 28,
   "metadata": {},
   "outputs": [
    {
     "data": {
      "text/plain": [
       "[<matplotlib.lines.Line2D at 0x7f9255fe2ac8>]"
      ]
     },
     "execution_count": 28,
     "metadata": {},
     "output_type": "execute_result"
    },
    {
     "data": {
      "image/png": "[encoded data removed]",
      "text/plain": [
       "<Figure size 432x288 with 1 Axes>"
      ]
     },
     "metadata": {
      "needs_background": "light"
     },
     "output_type": "display_data"
    }
   ],
   "source": [
    "plt.figure()\n",
    "plt.plot(all_losses)"
   ]
  },
  {
   "cell_type": "code",
   "execution_count": 29,
   "metadata": {},
   "outputs": [
    {
     "name": "stderr",
     "output_type": "stream",
     "text": [
      "/Library/Frameworks/Python.framework/Versions/3.7/lib/python3.7/site-packages/ipykernel_launcher.py:27: UserWarning: FixedFormatter should only be used together with FixedLocator\n",
      "/Library/Frameworks/Python.framework/Versions/3.7/lib/python3.7/site-packages/ipykernel_launcher.py:28: UserWarning: FixedFormatter should only be used together with FixedLocator\n"
     ]
    },
    {
     "data": {
      "image/png": "[encoded data removed]",
      "text/plain": [
       "<Figure size 432x288 with 2 Axes>"
      ]
     },
     "metadata": {
      "needs_background": "light"
     },
     "output_type": "display_data"
    }
   ],
   "source": [
    "confusion = torch.zeros(n_categories, n_categories)\n",
    "n_confusion = 10000\n",
    "\n",
    "def evaluate(line_tensor):\n",
    "    hidden = rnn.initHidden()\n",
    "\n",
    "    for i in range(line_tensor.size()[0]):\n",
    "        output, hidden = rnn(line_tensor[i], hidden)\n",
    "\n",
    "    return output\n",
    "\n",
    "for i in range(n_confusion):\n",
    "    category, line, category_tensor, line_tensor = randomTrainingExample()\n",
    "    output = evaluate(line_tensor)\n",
    "    guess, guess_i = categoryFromOutput(output)\n",
    "    category_i = all_categories.index(category)\n",
    "    confusion[category_i][guess_i] += 1\n",
    "\n",
    "for i in range(n_categories):\n",
    "    confusion[i] = confusion[i] / confusion[i].sum()\n",
    "\n",
    "fig = plt.figure()\n",
    "ax = fig.add_subplot(111)\n",
    "cax = ax.matshow(confusion.numpy())\n",
    "fig.colorbar(cax)\n",
    "\n",
    "ax.set_xticklabels([''] + all_categories, rotation=90)\n",
    "ax.set_yticklabels([''] + all_categories)\n",
    "\n",
    "ax.xaxis.set_major_locator(ticker.MultipleLocator(1))\n",
    "ax.yaxis.set_major_locator(ticker.MultipleLocator(1))\n",
    "\n",
    "plt.show()"
   ]
  },
  {
   "cell_type": "code",
   "execution_count": 30,
   "metadata": {},
   "outputs": [
    {
     "name": "stdout",
     "output_type": "stream",
     "text": [
      "\n",
      "> Dovesky\n",
      "(-0.61) Czech\n",
      "(-0.96) Russian\n",
      "(-3.30) English\n",
      "\n",
      "> Jackson\n",
      "(-0.56) Scottish\n",
      "(-1.01) English\n",
      "(-3.72) Russian\n",
      "\n",
      "> Satoshi\n",
      "(-0.87) Japanese\n",
      "(-1.82) Italian\n",
      "(-2.41) Arabic\n"
     ]
    }
   ],
   "source": [
    "def predict(input_line, n_predictions=3):\n",
    "    print('\\n> %s' % input_line)\n",
    "    with torch.no_grad():\n",
    "        output = evaluate(lineToTensor(input_line))\n",
    "\n",
    "        # Get top N categories\n",
    "        topv, topi = output.topk(n_predictions, 1, True)\n",
    "        predictions = []\n",
    "\n",
    "        for i in range(n_predictions):\n",
    "            value = topv[0][i].item()\n",
    "            category_index = topi[0][i].item()\n",
    "            print('(%.2f) %s' % (value, all_categories[category_index]))\n",
    "            predictions.append([value, all_categories[category_index]])\n",
    "\n",
    "predict('Dovesky')\n",
    "predict('Jackson')\n",
    "predict('Satoshi')"
   ]
  },
  {
   "cell_type": "code",
   "execution_count": null,
   "metadata": {},
   "outputs": [],
   "source": []
  },
  {
   "cell_type": "code",
   "execution_count": null,
   "metadata": {},
   "outputs": [],
   "source": []
  },
  {
   "cell_type": "code",
   "execution_count": null,
   "metadata": {},
   "outputs": [],
   "source": []
  }
 ],
 "metadata": {
  "kernelspec": {
   "display_name": "Python 3",
   "language": "python",
   "name": "python3"
  },
  "language_info": {
   "codemirror_mode": {
    "name": "ipython",
    "version": 3
   },
   "file_extension": ".py",
   "mimetype": "text/x-python",
   "name": "python",
   "nbconvert_exporter": "python",
   "pygments_lexer": "ipython3",
   "version": "3.7.2"
  }
 },
 "nbformat": 4,
 "nbformat_minor": 2
}
