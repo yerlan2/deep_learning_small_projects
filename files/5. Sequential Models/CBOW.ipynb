{
 "cells": [
  {
   "cell_type": "code",
   "execution_count": 149,
   "metadata": {},
   "outputs": [],
   "source": [
    "import torch\n",
    "import matplotlib.pyplot as plt\n",
    "from torch import nn"
   ]
  },
  {
   "cell_type": "code",
   "execution_count": 150,
   "metadata": {},
   "outputs": [
    {
     "name": "stdout",
     "output_type": "stream",
     "text": [
      "[(['We', 'are', 'to', 'study'], 'about'), (['are', 'about', 'study', 'the'], 'to'), (['about', 'to', 'the', 'idea'], 'study'), (['to', 'study', 'idea', 'of'], 'the'), (['study', 'the', 'of', 'a'], 'idea')]\n"
     ]
    },
    {
     "data": {
      "text/plain": [
       "tensor([48, 15, 18, 47])"
      ]
     },
     "execution_count": 150,
     "metadata": {},
     "output_type": "execute_result"
    }
   ],
   "source": [
    "CONTEXT_SIZE = 2  # 2 words to the left, 2 to the right\n",
    "\n",
    "\n",
    "raw_text = \"\"\"We are about to study the idea of a computational process.\n",
    "Computational processes are abstract beings that inhabit computers.\n",
    "As they evolve, processes manipulate other abstract things called data.\n",
    "The evolution of a process is directed by a pattern of rules\n",
    "called a program. People create programs to direct processes. In effect,\n",
    "we conjure the spirits of the computer with our spells.\"\"\".split()\n",
    "\n",
    "\n",
    "# By deriving a set from `raw_text`, we deduplicate the array\n",
    "vocab = set(raw_text)\n",
    "vocab_size = len(vocab)\n",
    "\n",
    "word_to_ix = {word: i for i, word in enumerate(vocab)}\n",
    "\n",
    "data = []\n",
    "\n",
    "for i in range(2, len(raw_text) - 2):\n",
    "    context = [raw_text[i - 2], raw_text[i - 1],\n",
    "               raw_text[i + 1], raw_text[i + 2]]\n",
    "    target = raw_text[i]\n",
    "    data.append((context, target))\n",
    "\n",
    "print(data[:5])\n",
    "\n",
    "# create your model and train.  here are some functions to help you make\n",
    "# the data ready for use by your module\n",
    "\n",
    "\n",
    "def make_context_vector(context, word_to_ix):\n",
    "    if type(context) is list:\n",
    "        idxs = [word_to_ix[w] for w in context]\n",
    "        return torch.tensor(idxs, dtype=torch.long)\n",
    "    else:\n",
    "        return torch.tensor([word_to_ix[context]], dtype=torch.long)\n",
    "\n",
    "\n",
    "make_context_vector(data[0][0], word_to_ix)  # example"
   ]
  },
  {
   "cell_type": "code",
   "execution_count": 151,
   "metadata": {},
   "outputs": [],
   "source": [
    "ix_to_word = {\n",
    "    word_to_ix[key]: key\n",
    "    for key in word_to_ix\n",
    "}"
   ]
  },
  {
   "cell_type": "code",
   "execution_count": 152,
   "metadata": {},
   "outputs": [],
   "source": [
    "def similarity(a, b):\n",
    "    return a.matmul(b.t()) / (a.norm() * b.norm())"
   ]
  },
  {
   "cell_type": "code",
   "execution_count": 153,
   "metadata": {},
   "outputs": [],
   "source": [
    "criterion = nn.NLLLoss()"
   ]
  },
  {
   "cell_type": "code",
   "execution_count": 154,
   "metadata": {},
   "outputs": [],
   "source": [
    "class CBOW(torch.nn.Module):\n",
    "    def __init__(self, vocab_size, embedding_dim):\n",
    "        super(CBOW, self).__init__()\n",
    "\n",
    "        self.embeddings = nn.Embedding(vocab_size, embedding_dim)\n",
    "        self.linear1 = nn.Linear(embedding_dim, 128)\n",
    "        self.activation_function1 = nn.ReLU()\n",
    "        \n",
    "        self.linear2 = nn.Linear(128, vocab_size)\n",
    "        self.activation_function2 = nn.LogSoftmax(dim=-1)\n",
    "        \n",
    "\n",
    "    def forward(self, inputs):\n",
    "        embeds = sum(self.embeddings(inputs)).view(1, -1)\n",
    "        out = self.linear1(embeds)\n",
    "        out = self.activation_function1(out)\n",
    "        out = self.linear2(out)\n",
    "        out = self.activation_function2(out)\n",
    "        return out\n",
    "\n",
    "    def get_embeddings(self, inputs):\n",
    "        embeds = sum(self.embeddings(inputs)).view(1, -1)\n",
    "        return embeds"
   ]
  },
  {
   "cell_type": "code",
   "execution_count": 155,
   "metadata": {},
   "outputs": [],
   "source": [
    "model = CBOW(vocab_size, 16)"
   ]
  },
  {
   "cell_type": "code",
   "execution_count": 156,
   "metadata": {},
   "outputs": [
    {
     "name": "stdout",
     "output_type": "stream",
     "text": [
      "tensor([48, 15, 18, 47]) tensor([28])\n"
     ]
    },
    {
     "data": {
      "text/plain": [
       "tensor(4.4192, grad_fn=<NllLossBackward>)"
      ]
     },
     "execution_count": 156,
     "metadata": {},
     "output_type": "execute_result"
    }
   ],
   "source": [
    "inputs = make_context_vector(data[0][0], word_to_ix)\n",
    "target = torch.tensor([word_to_ix[data[0][1]]]).long()\n",
    "\n",
    "print(inputs, target)\n",
    "\n",
    "criterion(model(inputs), target)"
   ]
  },
  {
   "cell_type": "code",
   "execution_count": 157,
   "metadata": {},
   "outputs": [
    {
     "name": "stdout",
     "output_type": "stream",
     "text": [
      "[100/2000] Loss: 8.935628525912762\n",
      "[200/2000] Loss: 1.5286855399608612\n",
      "[300/2000] Loss: 0.6594539228826761\n",
      "[400/2000] Loss: 0.37290025083348155\n",
      "[500/2000] Loss: 0.24122070393059403\n",
      "[600/2000] Loss: 0.16917798144277185\n",
      "[700/2000] Loss: 0.12539086065953597\n",
      "[800/2000] Loss: 0.09662937436951324\n",
      "[900/2000] Loss: 0.07666986907133833\n",
      "[1000/2000] Loss: 0.06223645113641396\n",
      "[1100/2000] Loss: 0.05146561766741797\n",
      "[1200/2000] Loss: 0.04320472851395607\n",
      "[1300/2000] Loss: 0.03672436426859349\n",
      "[1400/2000] Loss: 0.03154755577270407\n",
      "[1500/2000] Loss: 0.027342620072886348\n",
      "[1600/2000] Loss: 0.023885776186943986\n",
      "[1700/2000] Loss: 0.021009747055359185\n",
      "[1800/2000] Loss: 0.018591526764794253\n",
      "[1900/2000] Loss: 0.016539772681426257\n",
      "[2000/2000] Loss: 0.014784213140956126\n"
     ]
    }
   ],
   "source": [
    "model.train()\n",
    "\n",
    "DISPLAY_EACH_EPOCH = 100\n",
    "EPOCHES = 2000\n",
    "\n",
    "losses = []\n",
    "\n",
    "optimizer = torch.optim.Adam(model.parameters(), lr=0.001)\n",
    "\n",
    "for epoch in range(EPOCHES):\n",
    "    model.zero_grad()\n",
    "    \n",
    "    total_loss = 0\n",
    "    for context, target in data:\n",
    "        inputs = make_context_vector(context, word_to_ix)\n",
    "        target = torch.tensor([word_to_ix[target]]).long()\n",
    "        \n",
    "        outputs = model(inputs)\n",
    "        \n",
    "        loss = criterion(outputs, target)\n",
    "\n",
    "        loss.backward()\n",
    "        total_loss += loss.item()\n",
    "        \n",
    "    optimizer.step()\n",
    "    \n",
    "    losses.append(total_loss)\n",
    "    \n",
    "    if (epoch + 1) % DISPLAY_EACH_EPOCH == 0:\n",
    "        print('[%s/%s] Loss: %s' % (epoch + 1, EPOCHES, total_loss))"
   ]
  },
  {
   "cell_type": "code",
   "execution_count": 158,
   "metadata": {},
   "outputs": [
    {
     "data": {
      "text/plain": [
       "[<matplotlib.lines.Line2D at 0x7fb1cee66cc0>]"
      ]
     },
     "execution_count": 158,
     "metadata": {},
     "output_type": "execute_result"
    },
    {
     "data": {
      "image/png": "[encoded data removed]",
      "text/plain": [
       "<Figure size 432x288 with 1 Axes>"
      ]
     },
     "metadata": {
      "needs_background": "light"
     },
     "output_type": "display_data"
    }
   ],
   "source": [
    "plt.figure()\n",
    "plt.plot(losses)"
   ]
  },
  {
   "cell_type": "code",
   "execution_count": 159,
   "metadata": {},
   "outputs": [
    {
     "data": {
      "text/plain": [
       "CBOW(\n",
       "  (embeddings): Embedding(49, 16)\n",
       "  (linear1): Linear(in_features=16, out_features=128, bias=True)\n",
       "  (activation_function1): ReLU()\n",
       "  (linear2): Linear(in_features=128, out_features=49, bias=True)\n",
       "  (activation_function2): LogSoftmax(dim=-1)\n",
       ")"
      ]
     },
     "execution_count": 159,
     "metadata": {},
     "output_type": "execute_result"
    }
   ],
   "source": [
    "model.eval()"
   ]
  },
  {
   "cell_type": "code",
   "execution_count": 160,
   "metadata": {},
   "outputs": [],
   "source": [
    "def next_word(context, model):\n",
    "    \n",
    "    vector = model.get_embeddings(make_context_vector(context, word_to_ix))\n",
    "        \n",
    "    best_word = None\n",
    "    best_simy = -1\n",
    "    \n",
    "    for vword in vocab:\n",
    "        \n",
    "        if vword in context:\n",
    "            continue\n",
    "            \n",
    "        v = model.get_embeddings(make_context_vector(vword, word_to_ix))\n",
    "        \n",
    "        s = similarity(vector, v)\n",
    "        \n",
    "        if best_word is None:\n",
    "            best_word = vword\n",
    "            best_simy = s\n",
    "        \n",
    "        if s > best_simy:\n",
    "            best_word = vword\n",
    "            best_simy = s\n",
    "            \n",
    "    return best_word, best_simy.item()\n",
    "    \n",
    "\n",
    "def evaluate(context, model):\n",
    "    context_vector = make_context_vector(context, word_to_ix)\n",
    "    a = model(context_vector)\n",
    "\n",
    "    print(f'Context: {context}')\n",
    "    print(f'Prediction: {ix_to_word[torch.argmax(a[0]).item()]}')"
   ]
  },
  {
   "cell_type": "code",
   "execution_count": 161,
   "metadata": {},
   "outputs": [
    {
     "name": "stdout",
     "output_type": "stream",
     "text": [
      "Context: ['People', 'study']\n",
      "Prediction: create\n",
      "\n",
      "\n",
      "Context: ['idea', 'process']\n",
      "Prediction: of\n",
      "\n",
      "\n",
      "Context: ['beings', 'People']\n",
      "Prediction: programs\n",
      "\n",
      "\n",
      "Context: ['pattern', 'process', 'computer']\n",
      "Prediction: about\n",
      "\n",
      "\n",
      "Context: ['computational']\n",
      "Prediction: a\n",
      "\n",
      "\n"
     ]
    }
   ],
   "source": [
    "\"\"\"We are about to study the idea of a computational process.\n",
    "Computational processes are abstract beings that inhabit computers.\n",
    "As they evolve, processes manipulate other abstract things called data.\n",
    "The evolution of a process is directed by a pattern of rules\n",
    "called a program. People create programs to direct processes. In effect,\n",
    "we conjure the spirits of the computer with our spells.\"\"\"\n",
    "\n",
    "\n",
    "evaluate(['People', 'study'], model)\n",
    "print('\\n')\n",
    "evaluate(['idea', 'process'], model)\n",
    "print('\\n')\n",
    "evaluate(['beings', 'People'], model)\n",
    "print('\\n')\n",
    "evaluate(['pattern', 'process', 'computer'], model)\n",
    "print('\\n')\n",
    "evaluate(['computational'], model)\n",
    "print('\\n')"
   ]
  },
  {
   "cell_type": "code",
   "execution_count": 162,
   "metadata": {},
   "outputs": [
    {
     "name": "stdout",
     "output_type": "stream",
     "text": [
      "direct ('manipulate', 0.48209720849990845)\n",
      "the ('about', 0.3668060302734375)\n",
      "by ('with', 0.5760161280632019)\n",
      "program. ('things', 0.4989606738090515)\n",
      "inhabit ('pattern', 0.5285772085189819)\n",
      "As ('conjure', 0.4363301992416382)\n",
      "spirits ('study', 0.7306721806526184)\n",
      "that ('evolution', 0.7505890727043152)\n",
      "evolution ('that', 0.7505890727043152)\n",
      "programs ('beings', 0.4174237549304962)\n",
      "The ('We', 0.5466554164886475)\n",
      "computational ('effect,', 0.48458290100097656)\n",
      "abstract ('things', 0.7316676378250122)\n",
      "other ('In', 0.37484100461006165)\n",
      "beings ('We', 0.5407030582427979)\n",
      "are ('evolve,', 0.5538862943649292)\n",
      "Computational ('directed', 0.7081249356269836)\n",
      "data. ('In', 0.6790127158164978)\n",
      "to ('conjure', 0.5540122389793396)\n",
      "computers. ('we', 0.6065623164176941)\n",
      "things ('abstract', 0.7316676378250122)\n",
      "manipulate ('direct', 0.48209720849990845)\n",
      "rules ('is', 0.5940141677856445)\n",
      "processes ('data.', 0.6587375998497009)\n",
      "process ('computational', 0.4451178312301636)\n",
      "a ('our', 0.41864243149757385)\n",
      "of ('abstract', 0.5979321002960205)\n",
      "is ('rules', 0.5940141677856445)\n",
      "about ('create', 0.4646230638027191)\n",
      "they ('processes.', 0.5289667248725891)\n",
      "People ('by', 0.5458078384399414)\n",
      "we ('computers.', 0.6065623164176941)\n",
      "idea ('rules', 0.5088858008384705)\n",
      "with ('by', 0.5760161280632019)\n",
      "conjure ('to', 0.5540122389793396)\n",
      "directed ('Computational', 0.7081249356269836)\n",
      "create ('about', 0.4646230638027191)\n",
      "our ('with', 0.4722086489200592)\n",
      "process. ('People', 0.5160688161849976)\n",
      "processes. ('abstract', 0.6158760786056519)\n",
      "evolve, ('pattern', 0.5866743326187134)\n",
      "called ('is', 0.5456210374832153)\n",
      "In ('data.', 0.6790127158164978)\n",
      "computer ('is', 0.4642002582550049)\n",
      "spells. ('processes.', 0.4467819333076477)\n",
      "effect, ('computational', 0.48458290100097656)\n",
      "pattern ('evolve,', 0.5866743326187134)\n",
      "study ('spirits', 0.7306721806526184)\n",
      "We ('The', 0.5466554164886475)\n"
     ]
    }
   ],
   "source": [
    "for word in vocab:\n",
    "    print(word, next_word([word], model))"
   ]
  },
  {
   "cell_type": "code",
   "execution_count": null,
   "metadata": {},
   "outputs": [],
   "source": []
  },
  {
   "cell_type": "code",
   "execution_count": null,
   "metadata": {},
   "outputs": [],
   "source": []
  }
 ],
 "metadata": {
  "kernelspec": {
   "display_name": "Python 3",
   "language": "python",
   "name": "python3"
  },
  "language_info": {
   "codemirror_mode": {
    "name": "ipython",
    "version": 3
   },
   "file_extension": ".py",
   "mimetype": "text/x-python",
   "name": "python",
   "nbconvert_exporter": "python",
   "pygments_lexer": "ipython3",
   "version": "3.7.2"
  }
 },
 "nbformat": 4,
 "nbformat_minor": 2
}
